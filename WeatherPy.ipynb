{
 "cells": [
  {
   "cell_type": "markdown",
   "metadata": {},
   "source": [
    "# WeatherPy\n",
    "----\n",
    "\n",
    "#### Note\n",
    "* Instructions have been included for each segment. You do not have to follow them exactly, but they are included to help you think through the steps."
   ]
  },
  {
   "cell_type": "code",
   "execution_count": null,
   "metadata": {
    "scrolled": true
   },
   "outputs": [],
   "source": [
    "# Dependencies and Setup\n",
    "import matplotlib.pyplot as plt\n",
    "import pandas as pd\n",
    "import numpy as np\n",
    "import requests\n",
    "import time\n",
    "from scipy.stats import linregress\n",
    "\n",
    "# Import API key\n",
    "from api_keys import weather_api_key\n",
    "\n",
    "# Incorporated citipy to determine city based on latitude and longitude\n",
    "from citipy import citipy\n",
    "\n",
    "# Output File (CSV)\n",
    "output_data_file = \"output_data/cities.csv\"\n",
    "\n",
    "# Range of latitudes and longitudes\n",
    "lat_range = (-90, 90)\n",
    "lng_range = (-180, 180)"
   ]
  },
  {
   "cell_type": "markdown",
   "metadata": {},
   "source": [
    "## Generate Cities List"
   ]
  },
  {
   "cell_type": "code",
   "execution_count": null,
   "metadata": {},
   "outputs": [],
   "source": [
    "# List for holding lat_lngs and cities\n",
    "lat_lngs = []\n",
    "cities = []\n",
    "\n",
    "# Create a set of random lat and lng combinations\n",
    "lats = np.random.uniform(low=-90.000, high=90.000, size=1500)\n",
    "lngs = np.random.uniform(low=-180.000, high=180.000, size=1500)\n",
    "lat_lngs = zip(lats, lngs)\n",
    "\n",
    "# Identify nearest city for each lat, lng combination\n",
    "for lat_lng in lat_lngs:\n",
    "    city = citipy.nearest_city(lat_lng[0], lat_lng[1]).city_name\n",
    "    \n",
    "    # If the city is unique, then add it to a our cities list\n",
    "    if city not in cities:\n",
    "        cities.append(city)\n",
    "\n",
    "# Print the city count to confirm sufficient count\n",
    "len(cities)"
   ]
  },
  {
   "cell_type": "markdown",
   "metadata": {},
   "source": [
    "### Perform API Calls\n",
    "* Perform a weather check on each city using a series of successive API calls.\n",
    "* Include a print log of each city as it'sbeing processed (with the city number and city name).\n"
   ]
  },
  {
   "cell_type": "code",
   "execution_count": null,
   "metadata": {},
   "outputs": [],
   "source": [
    "url = \"http://api.openweathermap.org/data/2.5/weather?\"\n",
    "params = {\n",
    "    \"units\": \"metric\",\n",
    "    \"appid\": weather_api_key\n",
    "}\n",
    "\n",
    "weather_df = pd.DataFrame(cities)\n",
    "weather_df = weather_df.rename(columns={0:\"Cities\"})\n",
    "weather_df[\"Cloudiness\"] = \"\"\n",
    "weather_df[\"Country\"] = \"\"\n",
    "weather_df[\"Date\"] = \"\"\n",
    "weather_df[\"Humidity\"] = \"\"\n",
    "weather_df[\"Lat\"] = \"\"\n",
    "weather_df[\"Lng\"] = \"\"\n",
    "weather_df[\"Max Temp\"] = \"\"\n",
    "weather_df[\"Wind Speed\"] = \"\"\n",
    "\n",
    "print(\"Beginning Data Retrieval\")\n",
    "print(\"-------------------------------------\")\n",
    "\n",
    "for index, row in weather_df.iterrows():\n",
    "#     city_name = row[\"Cities\"]\n",
    "    params[\"q\"] = row[\"Cities\"]\n",
    "    response = requests.get(url, params=params).json()\n",
    "    \n",
    "    try:\n",
    "        \n",
    "        weather_df.loc[index, \"Cloudiness\"] = response[\"clouds\"][\"all\"]\n",
    "        weather_df.loc[index, \"Country\"] = response[\"sys\"][\"country\"]\n",
    "        weather_df.loc[index, \"Date\"] = response[\"dt\"]\n",
    "        weather_df.loc[index, \"Humidity\"] = response[\"main\"][\"humidity\"]\n",
    "        weather_df.loc[index, \"Lat\"] = response[\"coord\"][\"lat\"]\n",
    "        weather_df.loc[index, \"Lng\"] = response[\"coord\"][\"lon\"]\n",
    "        weather_df.loc[index, \"Max Temp\"] = response[\"main\"][\"temp_max\"]\n",
    "        weather_df.loc[index, \"Wind Speed\"] = response[\"wind\"][\"speed\"]\n",
    "#         pprint(response)\n",
    "        print(f\"Processing Record for {index}: {row['Cities']}\")\n",
    "    except: #never found the error name so generalized\n",
    "        print(\"No city found... skipping.\")\n",
    "        weather_df.loc[index, \"Cloudiness\"] = \"N/A\"\n",
    "        weather_df.loc[index, \"Country\"] = \"N/A\"\n",
    "        weather_df.loc[index, \"Date\"] = \"N/A\"\n",
    "        weather_df.loc[index, \"Humidity\"] = \"N/A\"\n",
    "        weather_df.loc[index, \"Lat\"] = \"N/A\"\n",
    "        weather_df.loc[index, \"Lng\"] = \"N/A\"\n",
    "        weather_df.loc[index, \"Max Temp\"] = \"N/A\"\n",
    "        weather_df.loc[index, \"Wind Speed\"] = \"N/A\"\n",
    "\n",
    "print(\"-------------------------------------\")\n",
    "print(\"Data Retrieval Complete\")"
   ]
  },
  {
   "cell_type": "markdown",
   "metadata": {},
   "source": [
    "### Convert Raw Data to DataFrame\n",
    "* Export the city data into a .csv.\n",
    "* Display the DataFrame"
   ]
  },
  {
   "cell_type": "code",
   "execution_count": null,
   "metadata": {},
   "outputs": [],
   "source": [
    "weather_df.to_csv(output_data, encoding=\"utf-8\", index=False)\n",
    "weather_df"
   ]
  },
  {
   "cell_type": "code",
   "execution_count": null,
   "metadata": {},
   "outputs": [],
   "source": [
    "weather_df2 = weather_df.loc[weather_df[\"Cloudiness\"] != \"N/A\",:]\n",
    "cities_count = weather_df2.count()\n",
    "cities_count"
   ]
  },
  {
   "cell_type": "markdown",
   "metadata": {},
   "source": [
    "### Plotting the Data\n",
    "* Use proper labeling of the plots using plot titles (including date of analysis) and axes labels.\n",
    "* Save the plotted figures as .pngs."
   ]
  },
  {
   "cell_type": "markdown",
   "metadata": {},
   "source": [
    "#### Latitude vs. Temperature Plot"
   ]
  },
  {
   "cell_type": "code",
   "execution_count": null,
   "metadata": {
    "scrolled": true
   },
   "outputs": [],
   "source": [
    "fig, ax = plt.subplots()\n",
    "\n",
    "fig.suptitle(f\"City Latitude vs. Max Temperature ({date})\", fontsize=14, fontweight=\"bold\")\n",
    "ax.set_xlabel(\"Latitude\")\n",
    "ax.set_ylabel(\"Max Temperature (F)\")\n",
    "\n",
    "# ax.set_xlim(-90,90)\n",
    "ax.grid()\n",
    "\n",
    "lat_temp = ax.scatter(weather_df2[\"Lat\"], weather_df2[\"Max Temp\"], marker=\"o\", alpha = 0.75, edgecolors = \"black\")\n",
    "plt.savefig(\"latvstemp.png\")\n"
   ]
  },
  {
   "cell_type": "markdown",
   "metadata": {},
   "source": [
    "#### Latitude vs. Humidity Plot"
   ]
  },
  {
   "cell_type": "code",
   "execution_count": null,
   "metadata": {},
   "outputs": [],
   "source": [
    "fig, ax = plt.subplots()\n",
    "\n",
    "fig.suptitle(f\"City Latitude vs. Humidity ({date})\", fontsize=14, fontweight=\"bold\")\n",
    "ax.set_xlabel(\"Latitude\")\n",
    "ax.set_ylabel(\"Humidity (%)\")\n",
    "\n",
    "ax.set_ylim(0,110)\n",
    "ax.grid()\n",
    "\n",
    "lat_temp = ax.scatter(weather_df2[\"Lat\"], weather_df2[\"Humidity\"], marker=\"o\", alpha = 0.75, edgecolors = \"black\")\n",
    "plt.savefig(\"latvshumidity.png\")"
   ]
  },
  {
   "cell_type": "markdown",
   "metadata": {},
   "source": [
    "#### Latitude vs. Cloudiness Plot"
   ]
  },
  {
   "cell_type": "code",
   "execution_count": null,
   "metadata": {},
   "outputs": [],
   "source": [
    "fig, ax = plt.subplots()\n",
    "\n",
    "fig.suptitle(f\"City Latitude vs. Cloudiness ({date})\", fontsize=14, fontweight=\"bold\")\n",
    "ax.set_xlabel(\"Latitude\")\n",
    "ax.set_ylabel(\"Cloudiness(%)\")\n",
    "\n",
    "# ax.set_xlim(-90,90)\n",
    "ax.grid()\n",
    "\n",
    "lat_temp = ax.scatter(weather_df2[\"Lat\"], weather_df2[\"Cloudiness\"], marker=\"o\", alpha = 0.75, edgecolors = \"black\")\n",
    "plt.savefig(\"latvscloudiness.png\")"
   ]
  },
  {
   "cell_type": "markdown",
   "metadata": {},
   "source": [
    "#### Latitude vs. Wind Speed Plot"
   ]
  },
  {
   "cell_type": "code",
   "execution_count": null,
   "metadata": {},
   "outputs": [],
   "source": [
    "fig, ax = plt.subplots()\n",
    "\n",
    "fig.suptitle(f\"City Latitude vs. Wind Speed ({date})\", fontsize=14, fontweight=\"bold\")\n",
    "ax.set_xlabel(\"Latitude\")\n",
    "ax.set_ylabel(\"Wind Speed (%)\")\n",
    "\n",
    "# ax.set_xlim(-90,90)\n",
    "ax.grid()\n",
    "\n",
    "lat_temp = ax.scatter(weather_df2[\"Lat\"], weather_df2[\"Wind Speed\"], marker=\"o\",  alpha = 0.75, edgecolors = \"black\")\n",
    "plt.savefig(\"latvswindspeed.png\")\n"
   ]
  },
  {
   "cell_type": "markdown",
   "metadata": {},
   "source": [
    "## Linear Regression"
   ]
  },
  {
   "cell_type": "code",
   "execution_count": null,
   "metadata": {},
   "outputs": [],
   "source": [
    "# OPTIONAL: Create a function to create Linear Regression plots\n"
   ]
  },
  {
   "cell_type": "code",
   "execution_count": null,
   "metadata": {},
   "outputs": [],
   "source": [
    "# Create Northern and Southern Hemisphere DataFrames\n"
   ]
  },
  {
   "cell_type": "markdown",
   "metadata": {},
   "source": [
    "####  Northern Hemisphere - Max Temp vs. Latitude Linear Regression"
   ]
  },
  {
   "cell_type": "code",
   "execution_count": null,
   "metadata": {},
   "outputs": [],
   "source": []
  },
  {
   "cell_type": "markdown",
   "metadata": {},
   "source": [
    "####  Southern Hemisphere - Max Temp vs. Latitude Linear Regression"
   ]
  },
  {
   "cell_type": "code",
   "execution_count": null,
   "metadata": {},
   "outputs": [],
   "source": []
  },
  {
   "cell_type": "markdown",
   "metadata": {},
   "source": [
    "####  Northern Hemisphere - Humidity (%) vs. Latitude Linear Regression"
   ]
  },
  {
   "cell_type": "code",
   "execution_count": null,
   "metadata": {},
   "outputs": [],
   "source": []
  },
  {
   "cell_type": "markdown",
   "metadata": {},
   "source": [
    "####  Southern Hemisphere - Humidity (%) vs. Latitude Linear Regression"
   ]
  },
  {
   "cell_type": "code",
   "execution_count": null,
   "metadata": {},
   "outputs": [],
   "source": []
  },
  {
   "cell_type": "markdown",
   "metadata": {},
   "source": [
    "####  Northern Hemisphere - Cloudiness (%) vs. Latitude Linear Regression"
   ]
  },
  {
   "cell_type": "code",
   "execution_count": null,
   "metadata": {},
   "outputs": [],
   "source": []
  },
  {
   "cell_type": "markdown",
   "metadata": {},
   "source": [
    "####  Southern Hemisphere - Cloudiness (%) vs. Latitude Linear Regression"
   ]
  },
  {
   "cell_type": "code",
   "execution_count": null,
   "metadata": {},
   "outputs": [],
   "source": []
  },
  {
   "cell_type": "markdown",
   "metadata": {},
   "source": [
    "####  Northern Hemisphere - Wind Speed (mph) vs. Latitude Linear Regression"
   ]
  },
  {
   "cell_type": "code",
   "execution_count": null,
   "metadata": {},
   "outputs": [],
   "source": []
  },
  {
   "cell_type": "markdown",
   "metadata": {},
   "source": [
    "####  Southern Hemisphere - Wind Speed (mph) vs. Latitude Linear Regression"
   ]
  },
  {
   "cell_type": "code",
   "execution_count": null,
   "metadata": {},
   "outputs": [],
   "source": []
  },
  {
   "cell_type": "code",
   "execution_count": null,
   "metadata": {},
   "outputs": [],
   "source": []
  }
 ],
 "metadata": {
  "anaconda-cloud": {},
  "kernel_info": {
   "name": "python3"
  },
  "kernelspec": {
   "display_name": "Python 3",
   "language": "python",
   "name": "python3"
  },
  "language_info": {
   "codemirror_mode": {
    "name": "ipython",
    "version": 3
   },
   "file_extension": ".py",
   "mimetype": "text/x-python",
   "name": "python",
   "nbconvert_exporter": "python",
   "pygments_lexer": "ipython3",
   "version": "3.7.4"
  },
  "latex_envs": {
   "LaTeX_envs_menu_present": true,
   "autoclose": false,
   "autocomplete": true,
   "bibliofile": "biblio.bib",
   "cite_by": "apalike",
   "current_citInitial": 1,
   "eqLabelWithNumbers": true,
   "eqNumInitial": 1,
   "hotkeys": {
    "equation": "Ctrl-E",
    "itemize": "Ctrl-I"
   },
   "labels_anchors": false,
   "latex_user_defs": false,
   "report_style_numbering": false,
   "user_envs_cfg": false
  },
  "nteract": {
   "version": "0.12.3"
  }
 },
 "nbformat": 4,
 "nbformat_minor": 2
}
